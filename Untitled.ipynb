{
 "cells": [
  {
   "cell_type": "code",
   "execution_count": 10,
   "id": "general-civilization",
   "metadata": {},
   "outputs": [
    {
     "name": "stdout",
     "output_type": "stream",
     "text": [
      "[1, 2, 2, '2']\n"
     ]
    }
   ],
   "source": [
    "a = [1,2,2,'2','2','2']\n",
    "a.remove('2')\n",
    "a.remove('2')\n",
    "print(a)"
   ]
  },
  {
   "cell_type": "code",
   "execution_count": 27,
   "id": "crude-canon",
   "metadata": {},
   "outputs": [
    {
     "data": {
      "text/plain": [
       "23"
      ]
     },
     "execution_count": 27,
     "metadata": {},
     "output_type": "execute_result"
    }
   ],
   "source": [
    "from collections import Counter\n",
    "s = 'adwwesaasdhgfdghr'\n",
    "def string_unlock(s):\n",
    "    dictt = {}\n",
    "    for i in range(len(s)):\n",
    "        for j in range(1,len(s)-i+1):\n",
    "            out_perm = frozenset(Counter(s[i:i+j]).items())\n",
    "            dictt[out_perm] = dictt.get(out_perm,0) + 1\n",
    "    count = 0\n",
    "    for key in dictt:\n",
    "        count += dictt[key] * (dictt[key]-1) // 2\n",
    "    return (count)\n",
    "string_unlock(s)\n"
   ]
  }
 ],
 "metadata": {
  "kernelspec": {
   "display_name": "Python 3",
   "language": "python",
   "name": "python3"
  },
  "language_info": {
   "codemirror_mode": {
    "name": "ipython",
    "version": 3
   },
   "file_extension": ".py",
   "mimetype": "text/x-python",
   "name": "python",
   "nbconvert_exporter": "python",
   "pygments_lexer": "ipython3",
   "version": "3.8.5"
  }
 },
 "nbformat": 4,
 "nbformat_minor": 5
}
