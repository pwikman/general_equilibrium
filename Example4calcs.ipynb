{
 "cells": [
  {
   "cell_type": "code",
   "execution_count": 6,
   "id": "better-stationery",
   "metadata": {},
   "outputs": [
    {
     "data": {
      "text/plain": [
       "[0.500000000000000]"
      ]
     },
     "execution_count": 6,
     "metadata": {},
     "output_type": "execute_result"
    }
   ],
   "source": [
    "from sympy import symbols, solve\n",
    "import numpy as np\n",
    "β = 0.95\n",
    "x = symbols('x')\n",
    "expr = 4 * β * ( 1 - 2 * x ) - 3 * ( 1 - β ) * ( np.power( x , 0.5 ) - np.power( 1 - x , 0.5 ) )\n",
    "\n",
    "\n",
    "sol = solve(expr)\n",
    "\n",
    "\n",
    "sol"
   ]
  },
  {
   "cell_type": "code",
   "execution_count": 169,
   "id": "ongoing-mother",
   "metadata": {},
   "outputs": [
    {
     "data": {
      "text/plain": [
       "     fun: -1.1675874079069188\n",
       " message: 'Solution found.'\n",
       "    nfev: 11\n",
       "  status: 0\n",
       " success: True\n",
       "       x: 0.6320375982665768"
      ]
     },
     "execution_count": 169,
     "metadata": {},
     "output_type": "execute_result"
    }
   ],
   "source": [
    "from scipy.optimize import minimize_scalar\n",
    "import numpy as np\n",
    "import math\n",
    "import matplotlib.pyplot as plt\n",
    "\n",
    "β = 0.27\n",
    "def func(x):\n",
    "    return β * np.power( x , 2 ) + ( 1 - β ) * math.sqrt(x)\n",
    "\n",
    "def func2(x):\n",
    "    return - func(x) - func(1-x)\n",
    "\n",
    "minimize_scalar(func2, bounds=[1/4,3/4], method='bounded')\n"
   ]
  },
  {
   "cell_type": "code",
   "execution_count": 168,
   "id": "increasing-expert",
   "metadata": {},
   "outputs": [
    {
     "data": {
      "image/png": "[encoded data removed]",
      "text/plain": [
       "<Figure size 432x288 with 1 Axes>"
      ]
     },
     "metadata": {
      "needs_background": "light"
     },
     "output_type": "display_data"
    },
    {
     "name": "stdout",
     "output_type": "stream",
     "text": [
      "     fun: -1.1675874079069188\n",
      " message: 'Solution found.'\n",
      "    nfev: 11\n",
      "  status: 0\n",
      " success: True\n",
      "       x: 0.6320375982665768 -1.1673759005323594\n"
     ]
    },
    {
     "data": {
      "text/plain": [
       "<Figure size 432x288 with 0 Axes>"
      ]
     },
     "metadata": {},
     "output_type": "display_data"
    }
   ],
   "source": [
    "b=0.27\n",
    "def f(d):\n",
    "    return b*d**2+(1-b)*math.sqrt(d)\n",
    "vecfunc = np.vectorize(f)\n",
    "\n",
    "d = np.arange(1/4, 3/4, 0.00001)\n",
    "T = vecfunc(d)\n",
    "plt.plot (d, T)\n",
    "plt.show()\n",
    "plt.clf()\n",
    "\n",
    "solution = minimize_scalar(lambda d: -(f(d)+f(1-d)), bounds=[1/4,3/4], method='bounded')\n",
    "print(solution, -(f(0.5)+f(0.5)) )"
   ]
  }
 ],
 "metadata": {
  "kernelspec": {
   "display_name": "Python 3",
   "language": "python",
   "name": "python3"
  },
  "language_info": {
   "codemirror_mode": {
    "name": "ipython",
    "version": 3
   },
   "file_extension": ".py",
   "mimetype": "text/x-python",
   "name": "python",
   "nbconvert_exporter": "python",
   "pygments_lexer": "ipython3",
   "version": "3.8.5"
  }
 },
 "nbformat": 4,
 "nbformat_minor": 5
}
